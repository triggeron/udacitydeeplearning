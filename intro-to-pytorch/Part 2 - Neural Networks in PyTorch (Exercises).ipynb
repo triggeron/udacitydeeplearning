{
 "cells": [
  {
   "cell_type": "markdown",
   "metadata": {},
   "source": [
    "# Neural networks with PyTorch\n",
    "\n",
    "Deep learning networks tend to be massive with dozens or hundreds of layers, that's where the term \"deep\" comes from. You can build one of these deep networks using only weight matrices as we did in the previous notebook, but in general it's very cumbersome and difficult to implement. PyTorch has a nice module `nn` that provides a nice way to efficiently build large neural networks."
   ]
  },
  {
   "cell_type": "code",
   "execution_count": 46,
   "metadata": {},
   "outputs": [],
   "source": [
    "# Import necessary packages\n",
    "\n",
    "%matplotlib inline\n",
    "%config InlineBackend.figure_format = 'retina'\n",
    "\n",
    "import numpy as np\n",
    "import torch\n",
    "\n",
    "import helper\n",
    "\n",
    "import matplotlib.pyplot as plt"
   ]
  },
  {
   "cell_type": "markdown",
   "metadata": {},
   "source": [
    "\n",
    "Now we're going to build a larger network that can solve a (formerly) difficult problem, identifying text in an image. Here we'll use the MNIST dataset which consists of greyscale handwritten digits. Each image is 28x28 pixels, you can see a sample below\n",
    "\n",
    "<img src='assets/mnist.png'>\n",
    "\n",
    "Our goal is to build a neural network that can take one of these images and predict the digit in the image.\n",
    "\n",
    "First up, we need to get our dataset. This is provided through the `torchvision` package. The code below will download the MNIST dataset, then create training and test datasets for us. Don't worry too much about the details here, you'll learn more about this later."
   ]
  },
  {
   "cell_type": "code",
   "execution_count": 47,
   "metadata": {},
   "outputs": [],
   "source": [
    "### Run this cell\n",
    "\n",
    "from torchvision import datasets, transforms\n",
    "\n",
    "# Define a transform to normalize the data\n",
    "transform = transforms.Compose([transforms.ToTensor(),\n",
    "                              transforms.Normalize((0.5,), (0.5,)),\n",
    "                              ])\n",
    "\n",
    "# Download and load the training data\n",
    "trainset = datasets.MNIST('~/.pytorch/MNIST_data/', download=True, train=True, transform=transform)\n",
    "trainloader = torch.utils.data.DataLoader(trainset, batch_size=64, shuffle=True)"
   ]
  },
  {
   "cell_type": "markdown",
   "metadata": {},
   "source": [
    "We have the training data loaded into `trainloader` and we make that an iterator with `iter(trainloader)`. Later, we'll use this to loop through the dataset for training, like\n",
    "\n",
    "```python\n",
    "for image, label in trainloader:\n",
    "    ## do things with images and labels\n",
    "```\n",
    "\n",
    "You'll notice I created the `trainloader` with a batch size of 64, and `shuffle=True`. The batch size is the number of images we get in one iteration from the data loader and pass through our network, often called a *batch*. And `shuffle=True` tells it to shuffle the dataset every time we start going through the data loader again. But here I'm just grabbing the first batch so we can check out the data. We can see below that `images` is just a tensor with size `(64, 1, 28, 28)`. So, 64 images per batch, 1 color channel, and 28x28 images."
   ]
  },
  {
   "cell_type": "code",
   "execution_count": 48,
   "metadata": {},
   "outputs": [
    {
     "name": "stdout",
     "output_type": "stream",
     "text": [
      "<class 'torch.Tensor'>\n",
      "torch.Size([64, 1, 28, 28])\n",
      "torch.Size([64])\n"
     ]
    }
   ],
   "source": [
    "dataiter = iter(trainloader)\n",
    "images, labels = dataiter.next()\n",
    "print(type(images))\n",
    "print(images.shape)\n",
    "print(labels.shape)"
   ]
  },
  {
   "cell_type": "markdown",
   "metadata": {},
   "source": [
    "This is what one of the images looks like. "
   ]
  },
  {
   "cell_type": "code",
   "execution_count": 49,
   "metadata": {},
   "outputs": [
    {
     "data": {
      "image/png": "[encoded data removed]",
      "text/plain": [
       "<Figure size 432x288 with 1 Axes>"
      ]
     },
     "metadata": {
      "image/png": {
       "height": 250,
       "width": 253
      },
      "needs_background": "light"
     },
     "output_type": "display_data"
    }
   ],
   "source": [
    "plt.imshow(images[1].numpy().squeeze(), cmap='Greys_r');"
   ]
  },
  {
   "cell_type": "markdown",
   "metadata": {},
   "source": [
    "First, let's try to build a simple network for this dataset using weight matrices and matrix multiplications. Then, we'll see how to do it using PyTorch's `nn` module which provides a much more convenient and powerful method for defining network architectures.\n",
    "\n",
    "The networks you've seen so far are called *fully-connected* or *dense* networks. Each unit in one layer is connected to each unit in the next layer. In fully-connected networks, the input to each layer must be a one-dimensional vector (which can be stacked into a 2D tensor as a batch of multiple examples). However, our images are 28x28 2D tensors, so we need to convert them into 1D vectors. Thinking about sizes, we need to convert the batch of images with shape `(64, 1, 28, 28)` to a have a shape of `(64, 784)`, 784 is 28 times 28. This is typically called *flattening*, we flattened the 2D images into 1D vectors.\n",
    "\n",
    "Previously you built a network with one output unit. Here we need 10 output units, one for each digit. We want our network to predict the digit shown in an image, so what we'll do is calculate probabilities that the image is of any one digit or class. This ends up being a discrete probability distribution over the classes (digits) that tells us the most likely class for the image. That means we need 10 output units for the 10 classes (digits). We'll see how to convert the network output into a probability distribution next.\n",
    "\n",
    "> **Exercise:** Flatten the batch of images `images`. Then build a multi-layer network with 784 input units, 256 hidden units, and 10 output units using random tensors for the weights and biases. For now, use a sigmoid activation for the hidden layer. Leave the output layer without an activation, we'll add one that gives us a probability distribution next."
   ]
  },
  {
   "cell_type": "code",
   "execution_count": 50,
   "metadata": {},
   "outputs": [
    {
     "name": "stdout",
     "output_type": "stream",
     "text": [
      "torch.Size([64, 784])\n",
      "tensor([[-14.1169,  -3.2008,  14.5005, -11.9543, -11.0281,  -1.7890,  -7.7133,\n",
      "           5.1091,   6.3989,   7.1449],\n",
      "        [-20.2374,  13.9666,   9.9731,  -4.4715,   4.8555,  -7.6503,   0.2073,\n",
      "           1.7558,  11.3639,   9.6772],\n",
      "        [-10.3138,  11.7094,   6.9416,  -5.7152,   4.6281,  -7.9559,   0.6114,\n",
      "           5.4971,   2.0525,   5.3179],\n",
      "        [ -7.0057,   3.5110,   9.5016,  -3.4004, -11.1877,  -1.7996,   1.4582,\n",
      "           3.8305,  11.0121,  16.3883],\n",
      "        [-13.5658,   5.6722,  13.3321,  -9.5510,   8.6217, -13.5755, -13.1886,\n",
      "           0.1728,  14.6797,   6.9612],\n",
      "        [  3.3481,  -0.1864,   9.0853, -11.6406,  -8.4728,  -1.1145,  -2.1670,\n",
      "           0.9065,  11.3382,   9.0448],\n",
      "        [-20.5205,   0.4436,  12.4642, -12.7009,  -3.9232,  -0.1693,  -5.0430,\n",
      "          12.8790,   4.4875,   7.1172],\n",
      "        [ -2.9262,   2.5262,   6.0717, -16.9638,  -3.3103,  -2.2900,   4.1955,\n",
      "          13.6770,  11.1413,   9.3325],\n",
      "        [-28.1271,  14.1231,   6.8499, -11.0255,  -3.7083, -13.3581,  -3.4008,\n",
      "          -0.2797,   7.9504,   0.8980],\n",
      "        [  0.1970,  11.3837,   5.5665,  -5.8790,   0.5465,  -8.3243,   4.5932,\n",
      "          -3.6430,  13.5766,   7.3873],\n",
      "        [-10.0977,   3.2657,   8.4318,  -8.6238,  -8.6380,   9.6931,  -8.0884,\n",
      "           7.2181,   4.0921,  12.0905],\n",
      "        [-13.0986,  -7.7805,  13.0562,  -6.9094, -15.8984,  -0.3089,  -2.4634,\n",
      "           5.6896,   3.2037,  12.4455],\n",
      "        [-12.4711,  11.7052,  11.4428,  -4.4965,  -8.7314,  -2.7482,  -0.5273,\n",
      "          -4.6290,   7.6744,   8.8307],\n",
      "        [-13.7420,   9.4054,   5.6390,  -5.8560,  -4.7522,  -3.9713,  -7.8323,\n",
      "          12.6004,  11.4728,   2.6939],\n",
      "        [-11.1786,   0.6715,   4.7906,  -8.3285,  -4.8145,   1.0197,  -8.0254,\n",
      "          11.9990,   7.8315,   5.3904],\n",
      "        [ -9.5955,   1.0532,   8.1308,  -6.8099,  -7.2085, -13.4836,   4.7136,\n",
      "           6.9881,  15.7840,   8.2908],\n",
      "        [ -3.8334,   6.6785,   6.9813, -11.9047,  -5.4055,  -0.9460,   5.5553,\n",
      "           8.7569,  11.2504,   5.3353],\n",
      "        [ -8.5537,   5.0923,   9.6330, -13.7185,  -8.3235,  -5.7852,   3.8005,\n",
      "          10.9901,  10.2756,   9.7784],\n",
      "        [ -1.0697,   4.3119,  15.0067,  -8.7711,  -2.7158,  -2.0332,   0.0770,\n",
      "           4.8582,  10.4967,  13.2402],\n",
      "        [ -9.2772,   9.3413,   4.5952,  -4.2892,   6.8455,  -2.4659,  -0.1843,\n",
      "          11.2045,   3.1677,  13.3833],\n",
      "        [-10.2971,   3.2322,   9.0517,  -4.5838,  -4.2293, -13.8170,   4.5923,\n",
      "          -0.3412,   0.8174,   6.9659],\n",
      "        [ -9.3198,   8.9698,  -0.9912,  -0.1045,   4.9883,  -5.5028,  -3.8493,\n",
      "          -2.9791,   9.5590,  12.9343],\n",
      "        [-13.1998,   9.1082,  11.0664, -10.9487,  -2.1407,   0.3472,  -8.8367,\n",
      "          -0.4419,  11.2553,  -0.5969],\n",
      "        [ -8.6017,  11.1421,  16.3346, -10.6917, -10.1852,  -5.0357,   0.5002,\n",
      "          10.5100,   5.0687,  10.5050],\n",
      "        [-10.9307,   7.5342,   5.8254,  -3.6870,  -0.9708,   2.5039,  -6.0925,\n",
      "           8.6093,  12.0046,   8.7251],\n",
      "        [-16.5068,  -4.6784,   2.4983,  -3.1381,  -1.4409, -12.0529,  -4.2532,\n",
      "           8.1988,   8.1668,   4.8613],\n",
      "        [-14.7823,  13.4318,   7.8193,   2.2071,  -2.8701,  -4.4379,  -6.0460,\n",
      "           7.7527,  12.8618,  11.9285],\n",
      "        [-12.8111,  11.0946,   3.9132,   0.6254,  -6.7508,  -1.1891,  -2.5815,\n",
      "           0.3747,   5.5288,  12.1374],\n",
      "        [ -4.3645,  15.6314,   4.7589,  10.0408,  -2.3685,  -7.6191,   6.3969,\n",
      "           4.1000,   4.2419,  15.4672],\n",
      "        [ -7.4896,   4.4825,  -2.2050,   0.1285,  -1.5848,   4.1554,  -1.7245,\n",
      "           8.1188,   6.2600,  12.2891],\n",
      "        [ -2.3248,   2.4580,  13.1210, -12.8864,   3.3697,  -9.4329,  -5.5433,\n",
      "           8.2978,  13.9806,   1.9073],\n",
      "        [-16.0562,  11.7445,  14.9070,  -5.1816,   4.9337,  -9.5016,   1.2353,\n",
      "          12.3969,   5.8747,   9.8076],\n",
      "        [ -1.3376,  11.9737,   6.1695,  -5.4900,   0.7111,  -0.2405,  -2.5495,\n",
      "           5.1372,   1.4397,   4.3686],\n",
      "        [ -1.6098,  11.7253,  21.2950, -17.7467,   3.8991, -18.0198,   8.0920,\n",
      "           4.3946,  12.6004,   4.0799],\n",
      "        [ -6.5143,   7.3330,  12.7028, -17.4293,  -3.8606,  -1.1891,   8.0840,\n",
      "          12.2765,   9.2370,  11.7383],\n",
      "        [-21.9525,   7.4056,   5.7130,  -4.3894,   5.2966, -10.6241, -12.4195,\n",
      "           9.5915,   1.6855,   9.8639],\n",
      "        [-20.4818,   9.3328,  11.9746,  -5.8393,  -2.7671,  -6.6235, -14.7178,\n",
      "           2.3323,  11.9117,  13.4653],\n",
      "        [-16.2545,   7.8922,  15.8388, -10.1392,   3.5789, -21.4142,  -8.9370,\n",
      "           6.7050,  13.5673,  13.4095],\n",
      "        [-20.6423,  10.9514,   9.3048,  -5.9421,   2.6477,  -5.8012,  -0.6360,\n",
      "           5.8637,   5.3465,   7.9237],\n",
      "        [ -7.9942,  -3.9482,   0.6750,  -8.7806,   0.8677,  -5.3005,  -6.9275,\n",
      "           7.7554,   2.6607,  10.8442],\n",
      "        [-11.0942,  11.7463,   5.5746,  -0.5303,   1.9828,  -2.6532,  -4.9354,\n",
      "           8.6485,  17.4276,  13.8951],\n",
      "        [-16.4241,   7.2519,  13.3407,  -2.1575,  -9.4233,  -4.7532,  -1.0326,\n",
      "           3.8244,   6.0860,   7.8746],\n",
      "        [-10.6310,   4.2446,   5.8452,  -1.1163,  -2.7022,   0.0487,  -2.3400,\n",
      "           4.0551,  -0.4413,  10.5660],\n",
      "        [-16.1329,  -2.5274,   5.8290,  -6.4842,   1.6045,  -8.0538,  -6.5857,\n",
      "           6.3872,   8.1396,  11.3642],\n",
      "        [  6.2853,  -0.1977,  10.6229,   1.2709,   3.4761, -14.6246, -15.6669,\n",
      "           4.5123,   9.0822,  14.4018],\n",
      "        [-11.8878,   6.9988,  10.1721,   1.5467,  -9.5446,  -7.8763,   7.0361,\n",
      "           6.6450,  11.1380,  15.6611],\n",
      "        [ -8.1929,  17.6081,   7.2412,  -6.1923,  -0.9230, -10.4712,   2.6616,\n",
      "          -0.8240,   2.5348,  13.8359],\n",
      "        [-10.8585,   8.3154,  11.9832,  -0.6212,  -5.4720, -12.0243,   4.5701,\n",
      "           4.5733,   7.7870,  13.9344],\n",
      "        [ -6.2183,  -1.8752,   7.2466, -11.3528, -11.2398,   1.9466,  -6.3603,\n",
      "           9.9646,   6.9529,   3.4188],\n",
      "        [-16.8191,   7.4150,   3.4981, -10.0048,  -9.0009,  -2.4725,  -8.1466,\n",
      "           5.8281,   2.8203,  12.3788],\n",
      "        [ -1.3291,  12.4203,  13.4821, -10.8909,   0.7231, -10.5089,  10.8042,\n",
      "           9.5617,  11.5635,  17.1950],\n",
      "        [-13.2433,   6.7616,   3.5315,  -7.7046,  -3.2052,  -4.2417,  -1.4207,\n",
      "           7.3161,   9.6270,  10.2914],\n",
      "        [ -8.3806,  12.0594,   3.5712, -15.7723,   0.6478,  -8.6123,  -4.7915,\n",
      "           8.1264,  15.7064,   9.4656],\n",
      "        [-13.4181,   4.3036,  14.8558, -12.9413,   3.7695,   0.7918,  -8.1859,\n",
      "          12.9908,   6.0078,   9.1758],\n",
      "        [ -8.0957,   5.8352,  -4.7296,  -3.3206,  -3.5456, -21.0919,   0.4823,\n",
      "           5.3310,  12.7840,  12.1457],\n",
      "        [ -0.8989,  12.1588,  12.2705, -13.5631,  -1.0292,  -3.1823,  -3.6438,\n",
      "           3.3308,   7.5232,   0.6666],\n",
      "        [ -8.3631,   4.3012,  14.1372,  -4.2108,  -4.3847,  -4.1291, -11.4849,\n",
      "          10.2124,  11.6903,  13.9128],\n",
      "        [ -7.0156,   9.8068,   9.0295,  -4.7956,   3.4400,   0.4677,  -1.4504,\n",
      "          10.6485,   3.3464,  15.3632],\n",
      "        [ -2.5509,   1.8169,   6.0302,  -2.5500,  -8.9785,  -1.7971,   3.9266,\n",
      "           2.1305,   6.1041,   9.7778],\n",
      "        [-20.1345,   6.5841,   3.2368, -12.5918,  -0.8637,  -2.6113,  -6.7184,\n",
      "          -3.8808,  16.7214,   2.4401],\n",
      "        [ -6.3345,  -0.0879,   0.8356,  -9.6166,  -1.5574,   2.7857,  -5.1684,\n",
      "           4.1444,   3.7727,   9.5724],\n",
      "        [-17.3682,   3.7776,   7.7924,   1.7239,   2.7442,  -7.0363,  -3.8073,\n",
      "          -6.8121,   6.6751,  10.6793],\n",
      "        [ -3.7706,  -0.2994,   2.8380,  -4.1141,  -5.1774,  -5.1008,  -4.0383,\n",
      "           8.5900,  -4.1888,  14.4857],\n",
      "        [-20.2032,  12.2431,  13.7789,  -6.8043,   3.3273,  -4.0104,   3.7983,\n",
      "           5.8376,   6.0017,  11.5321]])\n"
     ]
    }
   ],
   "source": [
    "## Your solution\n",
    "images_flatten = images.view(images.shape[0], -1)\n",
    "print(images_flatten.shape)\n",
    "\n",
    "W1 = torch.randn(immages_flatten.shape[1], 256)\n",
    "B1 = torch.randn(256)\n",
    "\n",
    "W2 = torch.randn(256, 10)\n",
    "B2 = torch.randn(10)\n",
    "\n",
    "h1 = torch.mm(immages_flatten, W1) + B1\n",
    "a1 = (1 / (1 + torch.exp(-h1)))\n",
    "\n",
    "out = torch.mm(a1, W2) + B2\n",
    "print(out)\n",
    "\n",
    "#out = # output of your network, should have shape (64,10)"
   ]
  },
  {
   "cell_type": "markdown",
   "metadata": {},
   "source": [
    "Now we have 10 outputs for our network. We want to pass in an image to our network and get out a probability distribution over the classes that tells us the likely class(es) the image belongs to. Something that looks like this:\n",
    "<img src='assets/image_distribution.png' width=500px>\n",
    "\n",
    "Here we see that the probability for each class is roughly the same. This is representing an untrained network, it hasn't seen any data yet so it just returns a uniform distribution with equal probabilities for each class.\n",
    "\n",
    "To calculate this probability distribution, we often use the [**softmax** function](https://en.wikipedia.org/wiki/Softmax_function). Mathematically this looks like\n",
    "\n",
    "$$\n",
    "\\Large \\sigma(x_i) = \\cfrac{e^{x_i}}{\\sum_k^K{e^{x_k}}}\n",
    "$$\n",
    "\n",
    "What this does is squish each input $x_i$ between 0 and 1 and normalizes the values to give you a proper probability distribution where the probabilites sum up to one.\n",
    "\n",
    "> **Exercise:** Implement a function `softmax` that performs the softmax calculation and returns probability distributions for each example in the batch. Note that you'll need to pay attention to the shapes when doing this. If you have a tensor `a` with shape `(64, 10)` and a tensor `b` with shape `(64,)`, doing `a/b` will give you an error because PyTorch will try to do the division across the columns (called broadcasting) but you'll get a size mismatch. The way to think about this is for each of the 64 examples, you only want to divide by one value, the sum in the denominator. So you need `b` to have a shape of `(64, 1)`. This way PyTorch will divide the 10 values in each row of `a` by the one value in each row of `b`. Pay attention to how you take the sum as well. You'll need to define the `dim` keyword in `torch.sum`. Setting `dim=0` takes the sum across the rows while `dim=1` takes the sum across the columns."
   ]
  },
  {
   "cell_type": "code",
   "execution_count": 51,
   "metadata": {},
   "outputs": [
    {
     "name": "stdout",
     "output_type": "stream",
     "text": [
      "torch.Size([64, 10])\n",
      "tensor([1.0000, 1.0000, 1.0000, 1.0000, 1.0000, 1.0000, 1.0000, 1.0000, 1.0000,\n",
      "        1.0000, 1.0000, 1.0000, 1.0000, 1.0000, 1.0000, 1.0000, 1.0000, 1.0000,\n",
      "        1.0000, 1.0000, 1.0000, 1.0000, 1.0000, 1.0000, 1.0000, 1.0000, 1.0000,\n",
      "        1.0000, 1.0000, 1.0000, 1.0000, 1.0000, 1.0000, 1.0000, 1.0000, 1.0000,\n",
      "        1.0000, 1.0000, 1.0000, 1.0000, 1.0000, 1.0000, 1.0000, 1.0000, 1.0000,\n",
      "        1.0000, 1.0000, 1.0000, 1.0000, 1.0000, 1.0000, 1.0000, 1.0000, 1.0000,\n",
      "        1.0000, 1.0000, 1.0000, 1.0000, 1.0000, 1.0000, 1.0000, 1.0000, 1.0000,\n",
      "        1.0000])\n"
     ]
    }
   ],
   "source": [
    "def softmax(x):\n",
    "    ## TODO: Implement the softmax function here\n",
    "    return torch.exp(x)/torch.sum(torch.exp(x), axis=1, keepdims=True)\n",
    "\n",
    "# Here, out should be the output of the network in the previous excercise with shape (64,10)\n",
    "probabilities = softmax(out)\n",
    "\n",
    "# Does it have the right shape? Should be (64, 10)\n",
    "print(probabilities.shape)\n",
    "# Does it sum to 1?\n",
    "print(probabilities.sum(dim=1))"
   ]
  },
  {
   "cell_type": "markdown",
   "metadata": {},
   "source": [
    "## Building networks with PyTorch\n",
    "\n",
    "PyTorch provides a module `nn` that makes building networks much simpler. Here I'll show you how to build the same one as above with 784 inputs, 256 hidden units, 10 output units and a softmax output."
   ]
  },
  {
   "cell_type": "code",
   "execution_count": 52,
   "metadata": {},
   "outputs": [],
   "source": [
    "from torch import nn"
   ]
  },
  {
   "cell_type": "code",
   "execution_count": 53,
   "metadata": {},
   "outputs": [],
   "source": [
    "class Network(nn.Module):\n",
    "    def __init__(self):\n",
    "        super().__init__()\n",
    "        \n",
    "        # Inputs to hidden layer linear transformation\n",
    "        self.hidden = nn.Linear(784, 256)\n",
    "        # Output layer, 10 units - one for each digit\n",
    "        self.output = nn.Linear(256, 10)\n",
    "        \n",
    "        # Define sigmoid activation and softmax output \n",
    "        self.sigmoid = nn.Sigmoid()\n",
    "        self.softmax = nn.Softmax(dim=1)\n",
    "        \n",
    "    def forward(self, x):\n",
    "        # Pass the input tensor through each of our operations\n",
    "        x = self.hidden(x)\n",
    "        x = self.sigmoid(x)\n",
    "        x = self.output(x)\n",
    "        x = self.softmax(x)\n",
    "        \n",
    "        return x"
   ]
  },
  {
   "cell_type": "markdown",
   "metadata": {},
   "source": [
    "Let's go through this bit by bit.\n",
    "\n",
    "```python\n",
    "class Network(nn.Module):\n",
    "```\n",
    "\n",
    "Here we're inheriting from `nn.Module`. Combined with `super().__init__()` this creates a class that tracks the architecture and provides a lot of useful methods and attributes. It is mandatory to inherit from `nn.Module` when you're creating a class for your network. The name of the class itself can be anything.\n",
    "\n",
    "```python\n",
    "self.hidden = nn.Linear(784, 256)\n",
    "```\n",
    "\n",
    "This line creates a module for a linear transformation, $x\\mathbf{W} + b$, with 784 inputs and 256 outputs and assigns it to `self.hidden`. The module automatically creates the weight and bias tensors which we'll use in the `forward` method. You can access the weight and bias tensors once the network (`net`) is created with `net.hidden.weight` and `net.hidden.bias`.\n",
    "\n",
    "```python\n",
    "self.output = nn.Linear(256, 10)\n",
    "```\n",
    "\n",
    "Similarly, this creates another linear transformation with 256 inputs and 10 outputs.\n",
    "\n",
    "```python\n",
    "self.sigmoid = nn.Sigmoid()\n",
    "self.softmax = nn.Softmax(dim=1)\n",
    "```\n",
    "\n",
    "Here I defined operations for the sigmoid activation and softmax output. Setting `dim=1` in `nn.Softmax(dim=1)` calculates softmax across the columns.\n",
    "\n",
    "```python\n",
    "def forward(self, x):\n",
    "```\n",
    "\n",
    "PyTorch networks created with `nn.Module` must have a `forward` method defined. It takes in a tensor `x` and passes it through the operations you defined in the `__init__` method.\n",
    "\n",
    "```python\n",
    "x = self.hidden(x)\n",
    "x = self.sigmoid(x)\n",
    "x = self.output(x)\n",
    "x = self.softmax(x)\n",
    "```\n",
    "\n",
    "Here the input tensor `x` is passed through each operation and reassigned to `x`. We can see that the input tensor goes through the hidden layer, then a sigmoid function, then the output layer, and finally the softmax function. It doesn't matter what you name the variables here, as long as the inputs and outputs of the operations match the network architecture you want to build. The order in which you define things in the `__init__` method doesn't matter, but you'll need to sequence the operations correctly in the `forward` method.\n",
    "\n",
    "Now we can create a `Network` object."
   ]
  },
  {
   "cell_type": "code",
   "execution_count": 54,
   "metadata": {},
   "outputs": [
    {
     "data": {
      "text/plain": [
       "Network(\n",
       "  (hidden): Linear(in_features=784, out_features=256, bias=True)\n",
       "  (output): Linear(in_features=256, out_features=10, bias=True)\n",
       "  (sigmoid): Sigmoid()\n",
       "  (softmax): Softmax(dim=1)\n",
       ")"
      ]
     },
     "execution_count": 54,
     "metadata": {},
     "output_type": "execute_result"
    }
   ],
   "source": [
    "# Create the network and look at it's text representation\n",
    "model = Network()\n",
    "model"
   ]
  },
  {
   "cell_type": "markdown",
   "metadata": {},
   "source": [
    "You can define the network somewhat more concisely and clearly using the `torch.nn.functional` module. This is the most common way you'll see networks defined as many operations are simple element-wise functions. We normally import this module as `F`, `import torch.nn.functional as F`."
   ]
  },
  {
   "cell_type": "code",
   "execution_count": 56,
   "metadata": {},
   "outputs": [],
   "source": [
    "import torch.nn.functional as F\n",
    "\n",
    "class Network(nn.Module):\n",
    "    def __init__(self):\n",
    "        super().__init__()\n",
    "        # Inputs to hidden layer linear transformation\n",
    "        self.hidden = nn.Linear(784, 256)\n",
    "        # Output layer, 10 units - one for each digit\n",
    "        self.output = nn.Linear(256, 10)\n",
    "        \n",
    "    def forward(self, x):\n",
    "        # Hidden layer with sigmoid activation\n",
    "        x = F.sigmoid(self.hidden(x))\n",
    "        # Output layer with softmax activation\n",
    "        x = F.softmax(self.output(x), dim=1)\n",
    "        \n",
    "        return x"
   ]
  },
  {
   "cell_type": "markdown",
   "metadata": {},
   "source": [
    "### Activation functions\n",
    "\n",
    "So far we've only been looking at the sigmoid activation function, but in general any function can be used as an activation function. The only requirement is that for a network to approximate a non-linear function, the activation functions must be non-linear. Here are a few more examples of common activation functions: Tanh (hyperbolic tangent), and ReLU (rectified linear unit).\n",
    "\n",
    "<img src=\"assets/activation.png\" width=700px>\n",
    "\n",
    "In practice, the ReLU function is used almost exclusively as the activation function for hidden layers."
   ]
  },
  {
   "cell_type": "markdown",
   "metadata": {},
   "source": [
    "### Your Turn to Build a Network\n",
    "\n",
    "<img src=\"assets/mlp_mnist.png\" width=600px>\n",
    "\n",
    "> **Exercise:** Create a network with 784 input units, a hidden layer with 128 units and a ReLU activation, then a hidden layer with 64 units and a ReLU activation, and finally an output layer with a softmax activation as shown above. You can use a ReLU activation with the `nn.ReLU` module or `F.relu` function.\n",
    "\n",
    "It's good practice to name your layers by their type of network, for instance 'fc' to represent a fully-connected layer. As you code your solution, use `fc1`, `fc2`, and `fc3` as your layer names."
   ]
  },
  {
   "cell_type": "code",
   "execution_count": 60,
   "metadata": {
    "scrolled": true
   },
   "outputs": [
    {
     "data": {
      "text/plain": [
       "Network(\n",
       "  (fc1): Linear(in_features=784, out_features=128, bias=True)\n",
       "  (fc2): Linear(in_features=128, out_features=64, bias=True)\n",
       "  (fc3): Linear(in_features=64, out_features=10, bias=True)\n",
       ")"
      ]
     },
     "execution_count": 60,
     "metadata": {},
     "output_type": "execute_result"
    }
   ],
   "source": [
    "## Your solution here\n",
    "import torch.nn.functional as F\n",
    "\n",
    "class Network(nn.Module):\n",
    "    def __init__(self):\n",
    "        super().__init__()\n",
    "        # Inputs to hidden layer linear transformation\n",
    "        self.fc1 = nn.Linear(784, 128)\n",
    "        self.fc2 = nn.Linear(128, 64)\n",
    "        # Output layer, 10 units - one for each digit\n",
    "        self.fc3 = nn.Linear(64, 10)\n",
    "        \n",
    "    def forward(self, x):\n",
    "        # Hidden layer with sigmoid activation\n",
    "        x = F.relu(self.fc1(x))\n",
    "        x = F.relu(self.fc2(x))\n",
    "        # Output layer with softmax activation\n",
    "        x = F.softmax(self.fc3(x), dim=1)\n",
    "        \n",
    "        return x\n",
    "\n",
    "model = Network()\n",
    "model\n"
   ]
  },
  {
   "cell_type": "markdown",
   "metadata": {},
   "source": [
    "### Initializing weights and biases\n",
    "\n",
    "The weights and such are automatically initialized for you, but it's possible to customize how they are initialized. The weights and biases are tensors attached to the layer you defined, you can get them with `model.fc1.weight` for instance."
   ]
  },
  {
   "cell_type": "code",
   "execution_count": 61,
   "metadata": {},
   "outputs": [
    {
     "name": "stdout",
     "output_type": "stream",
     "text": [
      "Parameter containing:\n",
      "tensor([[ 0.0236, -0.0160,  0.0207,  ..., -0.0267, -0.0177,  0.0216],\n",
      "        [ 0.0087,  0.0097,  0.0037,  ..., -0.0256, -0.0221,  0.0351],\n",
      "        [ 0.0198,  0.0194,  0.0035,  ..., -0.0285, -0.0033,  0.0150],\n",
      "        ...,\n",
      "        [ 0.0060, -0.0304,  0.0088,  ..., -0.0227,  0.0155, -0.0298],\n",
      "        [-0.0032,  0.0163,  0.0076,  ..., -0.0349, -0.0342,  0.0055],\n",
      "        [-0.0025, -0.0283,  0.0073,  ...,  0.0018, -0.0250,  0.0107]],\n",
      "       requires_grad=True)\n",
      "Parameter containing:\n",
      "tensor([ 0.0149,  0.0106,  0.0215, -0.0170, -0.0328,  0.0144, -0.0090, -0.0192,\n",
      "        -0.0216, -0.0279,  0.0071, -0.0224, -0.0159,  0.0342,  0.0199, -0.0045,\n",
      "        -0.0086, -0.0018, -0.0300, -0.0328,  0.0266, -0.0353, -0.0260,  0.0189,\n",
      "        -0.0184,  0.0250, -0.0253,  0.0214, -0.0010,  0.0116, -0.0250,  0.0290,\n",
      "         0.0033, -0.0349,  0.0093, -0.0127,  0.0223,  0.0071, -0.0020,  0.0018,\n",
      "         0.0200, -0.0214,  0.0161, -0.0217,  0.0003,  0.0104, -0.0004, -0.0273,\n",
      "         0.0145,  0.0167, -0.0097,  0.0204, -0.0010,  0.0242, -0.0036,  0.0156,\n",
      "         0.0257,  0.0054, -0.0315, -0.0283, -0.0022,  0.0020, -0.0285,  0.0219,\n",
      "        -0.0201,  0.0036, -0.0113, -0.0201, -0.0233, -0.0348, -0.0082,  0.0090,\n",
      "        -0.0049,  0.0219, -0.0148, -0.0002,  0.0035,  0.0232, -0.0058,  0.0202,\n",
      "         0.0340,  0.0274, -0.0263, -0.0302, -0.0240,  0.0100,  0.0009,  0.0308,\n",
      "        -0.0152,  0.0327, -0.0043,  0.0141, -0.0159, -0.0289, -0.0027, -0.0094,\n",
      "        -0.0173,  0.0288,  0.0312,  0.0309,  0.0275,  0.0203, -0.0181,  0.0273,\n",
      "         0.0178, -0.0191,  0.0185,  0.0001,  0.0043,  0.0051, -0.0255,  0.0106,\n",
      "         0.0067, -0.0092, -0.0214, -0.0026, -0.0165,  0.0345, -0.0354,  0.0004,\n",
      "         0.0241, -0.0083,  0.0336,  0.0216,  0.0267, -0.0308, -0.0275,  0.0096],\n",
      "       requires_grad=True)\n"
     ]
    }
   ],
   "source": [
    "print(model.fc1.weight)\n",
    "print(model.fc1.bias)"
   ]
  },
  {
   "cell_type": "markdown",
   "metadata": {},
   "source": [
    "For custom initialization, we want to modify these tensors in place. These are actually autograd *Variables*, so we need to get back the actual tensors with `model.fc1.weight.data`. Once we have the tensors, we can fill them with zeros (for biases) or random normal values."
   ]
  },
  {
   "cell_type": "code",
   "execution_count": 62,
   "metadata": {},
   "outputs": [
    {
     "data": {
      "text/plain": [
       "tensor([0., 0., 0., 0., 0., 0., 0., 0., 0., 0., 0., 0., 0., 0., 0., 0., 0., 0., 0., 0., 0., 0., 0., 0.,\n",
       "        0., 0., 0., 0., 0., 0., 0., 0., 0., 0., 0., 0., 0., 0., 0., 0., 0., 0., 0., 0., 0., 0., 0., 0.,\n",
       "        0., 0., 0., 0., 0., 0., 0., 0., 0., 0., 0., 0., 0., 0., 0., 0., 0., 0., 0., 0., 0., 0., 0., 0.,\n",
       "        0., 0., 0., 0., 0., 0., 0., 0., 0., 0., 0., 0., 0., 0., 0., 0., 0., 0., 0., 0., 0., 0., 0., 0.,\n",
       "        0., 0., 0., 0., 0., 0., 0., 0., 0., 0., 0., 0., 0., 0., 0., 0., 0., 0., 0., 0., 0., 0., 0., 0.,\n",
       "        0., 0., 0., 0., 0., 0., 0., 0.])"
      ]
     },
     "execution_count": 62,
     "metadata": {},
     "output_type": "execute_result"
    }
   ],
   "source": [
    "# Set biases to all zeros\n",
    "model.fc1.bias.data.fill_(0)"
   ]
  },
  {
   "cell_type": "code",
   "execution_count": 63,
   "metadata": {},
   "outputs": [
    {
     "data": {
      "text/plain": [
       "tensor([[ 0.0203,  0.0114, -0.0008,  ...,  0.0062,  0.0033,  0.0132],\n",
       "        [-0.0111, -0.0137, -0.0060,  ..., -0.0034,  0.0017, -0.0120],\n",
       "        [-0.0058,  0.0158,  0.0045,  ..., -0.0077, -0.0012,  0.0122],\n",
       "        ...,\n",
       "        [ 0.0122,  0.0016, -0.0055,  ...,  0.0089, -0.0010,  0.0027],\n",
       "        [ 0.0004,  0.0013,  0.0092,  ..., -0.0119, -0.0224,  0.0310],\n",
       "        [-0.0052, -0.0101, -0.0138,  ...,  0.0021, -0.0008, -0.0047]])"
      ]
     },
     "execution_count": 63,
     "metadata": {},
     "output_type": "execute_result"
    }
   ],
   "source": [
    "# sample from random normal with standard dev = 0.01\n",
    "model.fc1.weight.data.normal_(std=0.01)"
   ]
  },
  {
   "cell_type": "markdown",
   "metadata": {},
   "source": [
    "### Forward pass\n",
    "\n",
    "Now that we have a network, let's see what happens when we pass in an image."
   ]
  },
  {
   "cell_type": "code",
   "execution_count": 65,
   "metadata": {},
   "outputs": [
    {
     "data": {
      "image/png": "[encoded data removed]",
      "text/plain": [
       "<Figure size 432x648 with 2 Axes>"
      ]
     },
     "metadata": {
      "image/png": {
       "height": 226,
       "width": 423
      },
      "needs_background": "light"
     },
     "output_type": "display_data"
    }
   ],
   "source": [
    "# Grab some data \n",
    "dataiter = iter(trainloader)\n",
    "images, labels = dataiter.next()\n",
    "\n",
    "# Resize images into a 1D vector, new shape is (batch size, color channels, image pixels) \n",
    "images.resize_(64, 1, 784)\n",
    "# or images.resize_(images.shape[0], 1, 784) to automatically get batch size\n",
    "\n",
    "# Forward pass through the network\n",
    "img_idx = 0\n",
    "ps = model.forward(images[img_idx,:])\n",
    "\n",
    "img = images[img_idx]\n",
    "helper.view_classify(img.view(1, 28, 28), ps)"
   ]
  },
  {
   "cell_type": "markdown",
   "metadata": {},
   "source": [
    "As you can see above, our network has basically no idea what this digit is. It's because we haven't trained it yet, all the weights are random!\n",
    "\n",
    "### Using `nn.Sequential`\n",
    "\n",
    "PyTorch provides a convenient way to build networks like this where a tensor is passed sequentially through operations, `nn.Sequential` ([documentation](https://pytorch.org/docs/master/nn.html#torch.nn.Sequential)). Using this to build the equivalent network:"
   ]
  },
  {
   "cell_type": "code",
   "execution_count": 66,
   "metadata": {},
   "outputs": [
    {
     "name": "stdout",
     "output_type": "stream",
     "text": [
      "Sequential(\n",
      "  (0): Linear(in_features=784, out_features=128, bias=True)\n",
      "  (1): ReLU()\n",
      "  (2): Linear(in_features=128, out_features=64, bias=True)\n",
      "  (3): ReLU()\n",
      "  (4): Linear(in_features=64, out_features=10, bias=True)\n",
      "  (5): Softmax(dim=1)\n",
      ")\n"
     ]
    },
    {
     "data": {
      "image/png": "[encoded data removed]",
      "text/plain": [
       "<Figure size 432x648 with 2 Axes>"
      ]
     },
     "metadata": {
      "image/png": {
       "height": 226,
       "width": 423
      },
      "needs_background": "light"
     },
     "output_type": "display_data"
    }
   ],
   "source": [
    "# Hyperparameters for our network\n",
    "input_size = 784\n",
    "hidden_sizes = [128, 64]\n",
    "output_size = 10\n",
    "\n",
    "# Build a feed-forward network\n",
    "model = nn.Sequential(nn.Linear(input_size, hidden_sizes[0]),\n",
    "                      nn.ReLU(),\n",
    "                      nn.Linear(hidden_sizes[0], hidden_sizes[1]),\n",
    "                      nn.ReLU(),\n",
    "                      nn.Linear(hidden_sizes[1], output_size),\n",
    "                      nn.Softmax(dim=1))\n",
    "print(model)\n",
    "\n",
    "# Forward pass through the network and display output\n",
    "images, labels = next(iter(trainloader))\n",
    "images.resize_(images.shape[0], 1, 784)\n",
    "ps = model.forward(images[0,:])\n",
    "helper.view_classify(images[0].view(1, 28, 28), ps)"
   ]
  },
  {
   "cell_type": "markdown",
   "metadata": {},
   "source": [
    "Here our model is the same as before: 784 input units, a hidden layer with 128 units, ReLU activation, 64 unit hidden layer, another ReLU, then the output layer with 10 units, and the softmax output.\n",
    "\n",
    "The operations are available by passing in the appropriate index. For example, if you want to get first Linear operation and look at the weights, you'd use `model[0]`."
   ]
  },
  {
   "cell_type": "code",
   "execution_count": 67,
   "metadata": {},
   "outputs": [
    {
     "name": "stdout",
     "output_type": "stream",
     "text": [
      "Linear(in_features=784, out_features=128, bias=True)\n"
     ]
    },
    {
     "data": {
      "text/plain": [
       "Parameter containing:\n",
       "tensor([[ 0.0345, -0.0008, -0.0093,  ...,  0.0082,  0.0294, -0.0248],\n",
       "        [ 0.0333,  0.0108,  0.0143,  ..., -0.0318,  0.0047, -0.0055],\n",
       "        [ 0.0054, -0.0187,  0.0247,  ..., -0.0208, -0.0173, -0.0049],\n",
       "        ...,\n",
       "        [-0.0087, -0.0020, -0.0352,  ..., -0.0212,  0.0317,  0.0057],\n",
       "        [ 0.0022, -0.0081, -0.0352,  ...,  0.0123, -0.0284, -0.0191],\n",
       "        [ 0.0001, -0.0311, -0.0285,  ..., -0.0092, -0.0300,  0.0105]],\n",
       "       requires_grad=True)"
      ]
     },
     "execution_count": 67,
     "metadata": {},
     "output_type": "execute_result"
    }
   ],
   "source": [
    "print(model[0])\n",
    "model[0].weight"
   ]
  },
  {
   "cell_type": "markdown",
   "metadata": {},
   "source": [
    "You can also pass in an `OrderedDict` to name the individual layers and operations, instead of using incremental integers. Note that dictionary keys must be unique, so _each operation must have a different name_."
   ]
  },
  {
   "cell_type": "code",
   "execution_count": 69,
   "metadata": {},
   "outputs": [
    {
     "data": {
      "text/plain": [
       "Sequential(\n",
       "  (fc1): Linear(in_features=784, out_features=128, bias=True)\n",
       "  (relu1): ReLU()\n",
       "  (fc2): Linear(in_features=128, out_features=64, bias=True)\n",
       "  (relu2): ReLU()\n",
       "  (output): Linear(in_features=64, out_features=10, bias=True)\n",
       "  (softmax): Softmax(dim=1)\n",
       ")"
      ]
     },
     "execution_count": 69,
     "metadata": {},
     "output_type": "execute_result"
    }
   ],
   "source": [
    "from collections import OrderedDict\n",
    "model = nn.Sequential(OrderedDict([\n",
    "                      ('fc1', nn.Linear(input_size, hidden_sizes[0])),\n",
    "                      ('relu1', nn.ReLU()),\n",
    "                      ('fc2', nn.Linear(hidden_sizes[0], hidden_sizes[1])),\n",
    "                      ('relu2', nn.ReLU()),\n",
    "                      ('output', nn.Linear(hidden_sizes[1], output_size)),\n",
    "                      ('softmax', nn.Softmax(dim=1))]))\n",
    "model"
   ]
  },
  {
   "cell_type": "markdown",
   "metadata": {},
   "source": [
    "Now you can access layers either by integer or the name"
   ]
  },
  {
   "cell_type": "code",
   "execution_count": 70,
   "metadata": {},
   "outputs": [
    {
     "name": "stdout",
     "output_type": "stream",
     "text": [
      "Linear(in_features=784, out_features=128, bias=True)\n",
      "Linear(in_features=784, out_features=128, bias=True)\n"
     ]
    }
   ],
   "source": [
    "print(model[0])\n",
    "print(model.fc1)"
   ]
  },
  {
   "cell_type": "markdown",
   "metadata": {},
   "source": [
    "In the next notebook, we'll see how we can train a neural network to accuractly predict the numbers appearing in the MNIST images."
   ]
  }
 ],
 "metadata": {
  "kernelspec": {
   "display_name": "Python 3",
   "language": "python",
   "name": "python3"
  },
  "language_info": {
   "codemirror_mode": {
    "name": "ipython",
    "version": 3
   },
   "file_extension": ".py",
   "mimetype": "text/x-python",
   "name": "python",
   "nbconvert_exporter": "python",
   "pygments_lexer": "ipython3",
   "version": "3.7.3"
  }
 },
 "nbformat": 4,
 "nbformat_minor": 2
}
